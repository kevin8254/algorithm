{
  "nbformat": 4,
  "nbformat_minor": 0,
  "metadata": {
    "colab": {
      "name": "insertionsort.ipynb",
      "provenance": [],
      "collapsed_sections": [],
      "include_colab_link": true
    },
    "kernelspec": {
      "name": "python3",
      "display_name": "Python 3"
    }
  },
  "cells": [
    {
      "cell_type": "markdown",
      "metadata": {
        "id": "view-in-github",
        "colab_type": "text"
      },
      "source": [
        "<a href=\"https://colab.research.google.com/github/kevin8254/algorithm/blob/master/insertionsort%2020201006.ipynb\" target=\"_parent\"><img src=\"https://colab.research.google.com/assets/colab-badge.svg\" alt=\"Open In Colab\"/></a>"
      ]
    },
    {
      "cell_type": "markdown",
      "metadata": {
        "id": "j95w6SLwOC0z"
      },
      "source": [
        "Insertion sort (插入排序)"
      ]
    },
    {
      "cell_type": "code",
      "metadata": {
        "id": "BxBaYEwzNj_v",
        "outputId": "8d8ef441-18a8-4d6e-f12f-ea94c615d0e3",
        "colab": {
          "base_uri": "https://localhost:8080/",
          "height": 306
        }
      },
      "source": [
        "\n",
        "def Insertion_Sort(datas):                           #計算過程\n",
        "    for i in range(1, len(datas)):  #                   \n",
        "        for j in range(i):\n",
        "            current = datas[i]\n",
        "            if current < datas[j]:\n",
        "                for k in range(i,j):\n",
        "                  print(datas)\n",
        "    return datas\n",
        "\n",
        "\n",
        "def insertionSort(arr):\n",
        "    for i in range(len(arr)):                         #n\n",
        "        preIndex = i-1                           #n-1  \n",
        "        current = arr[i]                          #n\n",
        "        while preIndex >= 0 and arr[preIndex] > current:       #1\n",
        "            arr[preIndex+1] = arr[preIndex]              #n*(n+1)\n",
        "            preIndex-=1                         #n+-1\n",
        "        arr[preIndex+1] = current                     #n+1\n",
        "        print(arr)                             #1\n",
        "    return arr\n",
        "\n",
        "if __name__ == '__main__':\n",
        "    import random                              #n\n",
        "    a = list(range(16))                           #1\n",
        "    random.shuffle(a)                             #1\n",
        "    b = a.copy()                               #1\n",
        "\n",
        "    arr = insertionSort(a)                          #1\n",
        "    print('---'*10)\n",
        "    Insertion_Sort(b)                             #O(n*n) "
      ],
      "execution_count": null,
      "outputs": [
        {
          "output_type": "stream",
          "text": [
            "[11, 12, 8, 14, 6, 2, 9, 3, 5, 4, 13, 1, 10, 15, 7, 0]\n",
            "[11, 12, 8, 14, 6, 2, 9, 3, 5, 4, 13, 1, 10, 15, 7, 0]\n",
            "[8, 11, 12, 14, 6, 2, 9, 3, 5, 4, 13, 1, 10, 15, 7, 0]\n",
            "[8, 11, 12, 14, 6, 2, 9, 3, 5, 4, 13, 1, 10, 15, 7, 0]\n",
            "[6, 8, 11, 12, 14, 2, 9, 3, 5, 4, 13, 1, 10, 15, 7, 0]\n",
            "[2, 6, 8, 11, 12, 14, 9, 3, 5, 4, 13, 1, 10, 15, 7, 0]\n",
            "[2, 6, 8, 9, 11, 12, 14, 3, 5, 4, 13, 1, 10, 15, 7, 0]\n",
            "[2, 3, 6, 8, 9, 11, 12, 14, 5, 4, 13, 1, 10, 15, 7, 0]\n",
            "[2, 3, 5, 6, 8, 9, 11, 12, 14, 4, 13, 1, 10, 15, 7, 0]\n",
            "[2, 3, 4, 5, 6, 8, 9, 11, 12, 14, 13, 1, 10, 15, 7, 0]\n",
            "[2, 3, 4, 5, 6, 8, 9, 11, 12, 13, 14, 1, 10, 15, 7, 0]\n",
            "[1, 2, 3, 4, 5, 6, 8, 9, 11, 12, 13, 14, 10, 15, 7, 0]\n",
            "[1, 2, 3, 4, 5, 6, 8, 9, 10, 11, 12, 13, 14, 15, 7, 0]\n",
            "[1, 2, 3, 4, 5, 6, 8, 9, 10, 11, 12, 13, 14, 15, 7, 0]\n",
            "[1, 2, 3, 4, 5, 6, 7, 8, 9, 10, 11, 12, 13, 14, 15, 0]\n",
            "[0, 1, 2, 3, 4, 5, 6, 7, 8, 9, 10, 11, 12, 13, 14, 15]\n",
            "------------------------------\n"
          ],
          "name": "stdout"
        }
      ]
    }
  ]
}