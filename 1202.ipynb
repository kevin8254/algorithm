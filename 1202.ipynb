{
  "nbformat": 4,
  "nbformat_minor": 0,
  "metadata": {
    "colab": {
      "name": "1202.ipynb",
      "provenance": [],
      "collapsed_sections": [],
      "authorship_tag": "ABX9TyN8VjpODeCoD92Cu8eJUbn9",
      "include_colab_link": true
    },
    "kernelspec": {
      "name": "python3",
      "display_name": "Python 3"
    }
  },
  "cells": [
    {
      "cell_type": "markdown",
      "metadata": {
        "id": "view-in-github",
        "colab_type": "text"
      },
      "source": [
        "<a href=\"https://colab.research.google.com/github/kevin8254/algorithm/blob/master/1202.ipynb\" target=\"_parent\"><img src=\"https://colab.research.google.com/assets/colab-badge.svg\" alt=\"Open In Colab\"/></a>"
      ]
    },
    {
      "cell_type": "code",
      "metadata": {
        "colab": {
          "base_uri": "https://localhost:8080/"
        },
        "id": "6b0FmnOBJUbW",
        "outputId": "3ce54455-2f12-44e4-9138-a85e18a9440e"
      },
      "source": [
        "t = [25,20,5,1]\n",
        "k = int(input(\"請輸入錢錢:\"))\n",
        "def change(t,n):\n",
        "  m = [0 for _ in range(len(t))]\n",
        "  for i , money in enumerate(t): \n",
        "    if n>=money:   \n",
        "      m[i] = n // money\n",
        "      n = n % money\n",
        "      print((m,n))\n",
        "  return m , n\n",
        "\n",
        "print(\"最終解答:\"  + str(change(t,k)))"
      ],
      "execution_count": 58,
      "outputs": [
        {
          "output_type": "stream",
          "text": [
            "請輸入錢錢:43\n",
            "([1, 0, 0, 0], 18)\n",
            "([1, 0, 3, 0], 3)\n",
            "([1, 0, 3, 3], 0)\n",
            "最終解答:([1, 0, 3, 3], 0)\n"
          ],
          "name": "stdout"
        }
      ]
    },
    {
      "cell_type": "code",
      "metadata": {
        "colab": {
          "base_uri": "https://localhost:8080/"
        },
        "id": "ca4MoXmcOpBT",
        "outputId": "cb784985-1d4d-464d-9579-a3e2695fcdae"
      },
      "source": [
        "class Solution(object):\n",
        "   def coinChange(self, coins, amount):\n",
        "      if amount == 0 :\n",
        "         return 0\n",
        "      if min(coins) > amount:\n",
        "         return -1\n",
        "      dp = [-1 for i in range(0, amount + 1)]\n",
        "      for i in coins:\n",
        "         if i > len(dp) - 1:\n",
        "            continue\n",
        "         dp[i] = 1\n",
        "         for j in range(i + 1, amount + 1):\n",
        "            if dp[j - i] == -1:\n",
        "               continue\n",
        "            elif dp[j] == -1:\n",
        "               dp[j] = dp[j - i] + 1\n",
        "            else:\n",
        "               dp[j] = min(dp[j], dp[j - i] + 1)\n",
        "         #print(dp)\n",
        "      return dp[amount]\n",
        "ob1 = Solution()\n",
        "print(ob1.coinChange([25,20,5,1], 99))\n"
      ],
      "execution_count": 61,
      "outputs": [
        {
          "output_type": "stream",
          "text": [
            "8\n"
          ],
          "name": "stdout"
        }
      ]
    },
    {
      "cell_type": "code",
      "metadata": {
        "colab": {
          "base_uri": "https://localhost:8080/"
        },
        "id": "BqUVzzW2W7Gs",
        "outputId": "7380ae09-9272-4384-a815-4ee8534936c1"
      },
      "source": [
        "import time\n",
        "__author__ = 'ice'\n",
        "class goods:\n",
        "  def __init__(self, goods_id, weight=0, value=0):\n",
        "    self.id = goods_id\n",
        "    self.weight = weight\n",
        "    self.value = value\n",
        "def knapsack(capacity=0, goods_set=[]):  \n",
        "  goods_set.sort(key=lambda obj: obj.value , reverse=True)  \n",
        "  result = []\n",
        "  for a_goods in goods_set:\n",
        "    if capacity < a_goods.weight:     \n",
        "      continue\n",
        "    result.append(a_goods)\n",
        "    capacity -= a_goods.weight\n",
        "  return result\n",
        "some_goods = [goods(\"PS5\",5,17000), goods(\"iPad pro 12\",1,35000), goods(\"Macbook pro 15\",4,60000), goods(\"HomePod\",3,9000), goods(\"Mac mini\",2,20000)]\n",
        "res = knapsack(10,some_goods)\n",
        "for obj in res:\n",
        "  print('拿了:' + str(obj.id) , end=',')\n",
        "  print()"
      ],
      "execution_count": 208,
      "outputs": [
        {
          "output_type": "stream",
          "text": [
            "拿了:Macbook pro 15,\n",
            "拿了:iPad pro 12,\n",
            "拿了:Mac mini,\n",
            "拿了:HomePod,\n"
          ],
          "name": "stdout"
        }
      ]
    },
    {
      "cell_type": "code",
      "metadata": {
        "colab": {
          "base_uri": "https://localhost:8080/"
        },
        "id": "ZvXkTwE8k-xt",
        "outputId": "5ce81f9d-40a5-4a40-b6a9-66f82a827dbc"
      },
      "source": [
        "def bag(n,c,w,v):\n",
        "\tres=[[-1 for j in range(c+1)] for i in range(n+1)]\n",
        "\tfor j in range(c+1):\n",
        "\t\tres[0][j]=0\n",
        "\tfor i in range(1,n+1):\n",
        "\t\tfor j in range(1,c+1):\n",
        "\t\t\tres[i][j]=res[i-1][j]\n",
        "\t\t\tif j>=w[i-1] and res[i][j]<res[i-1][j-w[i-1]]+v[i-1]:\n",
        "\t\t\t\tres[i][j]=res[i-1][j-w[i-1]]+v[i-1]\n",
        "\treturn res\n",
        "\n",
        "def show(n,c,w,res):\n",
        "\tprint('最大價值為:',res[n][c])\n",
        "\tx=[False for i in range(n)]\n",
        "\tj=c\n",
        "\tfor i in range(1,n+1):\n",
        "\t\tif res[i][j]>res[i-1][j]:\n",
        "\t\t\tx[i-1]=True\n",
        "\t\t\tj-=w[i-1]\n",
        "\tprint('選擇的物品為:')\n",
        "\tfor i in range(n):\n",
        "\t\tif x[i]:\n",
        "\t\t\tprint('第',i,'個,',end='')\n",
        "\tprint('')\n",
        "\n",
        "if __name__=='__main__':\n",
        "\tn=5\n",
        "\tc=10\n",
        "\tw=[5,1,4,3,2]\n",
        "\tv=[17000,35000,60000,9000,20000]\n",
        "\tres=bag(n,c,w,v)\n",
        "\tshow(n,c,w,res)"
      ],
      "execution_count": 217,
      "outputs": [
        {
          "output_type": "stream",
          "text": [
            "最大價值為: 123999\n",
            "選擇的物品為:\n",
            "第 0 個,第 1 個,第 2 個,\n"
          ],
          "name": "stdout"
        }
      ]
    }
  ]
}