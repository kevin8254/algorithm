{
  "nbformat": 4,
  "nbformat_minor": 0,
  "metadata": {
    "colab": {
      "name": "1202.ipynb",
      "provenance": [],
      "collapsed_sections": [],
      "authorship_tag": "ABX9TyOaL1eYdsuJ/KG7K7GoeGyy",
      "include_colab_link": true
    },
    "kernelspec": {
      "name": "python3",
      "display_name": "Python 3"
    }
  },
  "cells": [
    {
      "cell_type": "markdown",
      "metadata": {
        "id": "view-in-github",
        "colab_type": "text"
      },
      "source": [
        "<a href=\"https://colab.research.google.com/github/kevin8254/algorithm/blob/master/1202.ipynb\" target=\"_parent\"><img src=\"https://colab.research.google.com/assets/colab-badge.svg\" alt=\"Open In Colab\"/></a>"
      ]
    },
    {
      "cell_type": "code",
      "metadata": {
        "colab": {
          "base_uri": "https://localhost:8080/"
        },
        "id": "6b0FmnOBJUbW",
        "outputId": "3ce54455-2f12-44e4-9138-a85e18a9440e"
      },
      "source": [
        "t = [25,20,5,1]\n",
        "k = int(input(\"請輸入錢錢:\"))\n",
        "def change(t,n):\n",
        "  m = [0 for _ in range(len(t))]\n",
        "  for i , money in enumerate(t): \n",
        "    if n>=money:   \n",
        "      m[i] = n // money\n",
        "      n = n % money\n",
        "      print((m,n))\n",
        "  return m , n\n",
        "\n",
        "print(\"最終解答:\"  + str(change(t,k)))"
      ],
      "execution_count": null,
      "outputs": [
        {
          "output_type": "stream",
          "text": [
            "請輸入錢錢:43\n",
            "([1, 0, 0, 0], 18)\n",
            "([1, 0, 3, 0], 3)\n",
            "([1, 0, 3, 3], 0)\n",
            "最終解答:([1, 0, 3, 3], 0)\n"
          ],
          "name": "stdout"
        }
      ]
    },
    {
      "cell_type": "code",
      "metadata": {
        "colab": {
          "base_uri": "https://localhost:8080/"
        },
        "id": "ca4MoXmcOpBT",
        "outputId": "cb784985-1d4d-464d-9579-a3e2695fcdae"
      },
      "source": [
        "class Solution(object):\n",
        "   def coinChange(self, coins, amount):\n",
        "      if amount == 0 :\n",
        "         return 0\n",
        "      if min(coins) > amount:\n",
        "         return -1\n",
        "      dp = [-1 for i in range(0, amount + 1)]\n",
        "      for i in coins:\n",
        "         if i > len(dp) - 1:\n",
        "            continue\n",
        "         dp[i] = 1\n",
        "         for j in range(i + 1, amount + 1):\n",
        "            if dp[j - i] == -1:\n",
        "               continue\n",
        "            elif dp[j] == -1:\n",
        "               dp[j] = dp[j - i] + 1\n",
        "            else:\n",
        "               dp[j] = min(dp[j], dp[j - i] + 1)\n",
        "         #print(dp)\n",
        "      return dp[amount]\n",
        "ob1 = Solution()\n",
        "print(ob1.coinChange([25,20,5,1], 99))\n"
      ],
      "execution_count": null,
      "outputs": [
        {
          "output_type": "stream",
          "text": [
            "8\n"
          ],
          "name": "stdout"
        }
      ]
    },
    {
      "cell_type": "code",
      "metadata": {
        "colab": {
          "base_uri": "https://localhost:8080/"
        },
        "id": "BqUVzzW2W7Gs",
        "outputId": "dbd8ccf0-b8d3-4c45-83a3-82dd7baf5b52"
      },
      "source": [
        "import time\n",
        "__author__ = 'ice'\n",
        "class goods:\n",
        "  def __init__(self, goods_id, weight=0, value=0):\n",
        "    self.id = goods_id\n",
        "    self.weight = weight\n",
        "    self.value = value\n",
        "def knapsack(capacity=0, goods_set=[]):  \n",
        "  goods_set.sort(key=lambda obj: obj.value , reverse=True)  \n",
        "  result = []\n",
        "  for a_goods in goods_set:\n",
        "    if capacity < a_goods.weight:     \n",
        "      continue\n",
        "    result.append(a_goods)\n",
        "    capacity -= a_goods.weight\n",
        "  return result\n",
        "some_goods = [goods(\"PS5\",5,17000), goods(\"iPad pro 12\",1,35000), goods(\"Macbook pro 15\",4,60000), goods(\"HomePod\",3,9000), goods(\"Mac mini\",2,20000)]\n",
        "res = knapsack(10,some_goods)\n",
        "for obj in res:\n",
        "  print('拿了:' + str(obj.id) , end='')\n",
        "  print()"
      ],
      "execution_count": 12,
      "outputs": [
        {
          "output_type": "stream",
          "text": [
            "拿了:Macbook pro 15\n",
            "拿了:iPad pro 12\n",
            "拿了:Mac mini\n",
            "拿了:HomePod\n"
          ],
          "name": "stdout"
        }
      ]
    },
    {
      "cell_type": "code",
      "metadata": {
        "id": "oIXtFWcKzcwr",
        "outputId": "f9845ebb-fad3-45f6-8d24-6edae9627236",
        "colab": {
          "base_uri": "https://localhost:8080/"
        }
      },
      "source": [
        "import numpy as np\n",
        "def pack():\n",
        "    C=10\n",
        "    num=5\n",
        "    v = [5,1,4,3,2]\n",
        "    price=[17000,35000,60000,9000,20000] \n",
        "    sum=np.zeros((num+1,C+1)) \n",
        "    for jew in range(num+1): # 物品數\n",
        "        for c in range(C+1): # 容量大小\n",
        "            if(jew==0):    # 如果没有裝東西\n",
        "                sum[jew][c]=0\n",
        "            else:\n",
        "                sum[jew][c]=sum[jew-1][c]\n",
        "            if(jew>0 and c>=v[jew-1]):                \n",
        "                sum[jew][c]=max(sum[jew-1][c],sum[jew-1][c-v[jew-1]]+price[jew-1])\n",
        "    print(\"總共的金額為:\",sum[num][C])     \n",
        "    pack=np.zeros((num))\n",
        "    volume = C\n",
        "        \n",
        "    for jew in range(num,-1,-1):  # 倒過來（循環）\n",
        "        if(sum[jew][volume]>sum[jew-1][volume]):  # 如果加入最後一個比前一個價值要高\n",
        "            pack[jew-1]=1\n",
        "            volume=volume-v[jew-1]\n",
        " \n",
        "    print(\"拿了:\",pack)    \n",
        " \n",
        "if __name__==\"__main__\":\n",
        "    pack()"
      ],
      "execution_count": 13,
      "outputs": [
        {
          "output_type": "stream",
          "text": [
            "總共的金額為: 124000.0\n",
            "拿了: [0. 1. 1. 1. 1.]\n"
          ],
          "name": "stdout"
        }
      ]
    }
  ]
}