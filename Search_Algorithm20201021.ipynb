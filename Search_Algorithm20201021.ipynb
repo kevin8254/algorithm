{
  "nbformat": 4,
  "nbformat_minor": 0,
  "metadata": {
    "colab": {
      "name": "Search Algorithm.ipynb",
      "provenance": [],
      "authorship_tag": "ABX9TyNQm22tV3Joj071Bfz7Uj1f",
      "include_colab_link": true
    },
    "kernelspec": {
      "name": "python3",
      "display_name": "Python 3"
    }
  },
  "cells": [
    {
      "cell_type": "markdown",
      "metadata": {
        "id": "view-in-github",
        "colab_type": "text"
      },
      "source": [
        "<a href=\"https://colab.research.google.com/github/kevin8254/algorithm/blob/master/Search_Algorithm20201021.ipynb\" target=\"_parent\"><img src=\"https://colab.research.google.com/assets/colab-badge.svg\" alt=\"Open In Colab\"/></a>"
      ]
    },
    {
      "cell_type": "code",
      "metadata": {
        "id": "b1XzAGlcBPzW",
        "outputId": "bd33210f-b5e5-4c69-d049-0a374d9bb534",
        "colab": {
          "base_uri": "https://localhost:8080/",
          "height": 221
        }
      },
      "source": [
        "#linear probing\n",
        "import random\n",
        "INDEXBOX=10\n",
        "MAXNUM=7\n",
        "\n",
        "def print_data(data,max_number):\n",
        "  print(\"\\t\",end=\"\")\n",
        "  for i in range(max_number):\n",
        "    print(\"[%2d]\" %data[i],end=\"\")\n",
        "  print()\n",
        "\n",
        "def create_table(num,index):\n",
        "  tmp=num%INDEXBOX\n",
        "  while True:\n",
        "    if index[tmp]==-1:\n",
        "       index[tmp]=num\n",
        "       break\n",
        "    else:\n",
        "      tmp=(tmp+1)%INDEXBOX\n",
        "\n",
        "index=[None]*INDEXBOX\n",
        "data=[None]*MAXNUM\n",
        "print(\"原始陣列質\")\n",
        "for i in range(MAXNUM):\n",
        "  data[i]=random.randint(1,20)\n",
        "for i in range(INDEXBOX):\n",
        "  index[i]=-1\n",
        "print_data(data,MAXNUM)\n",
        "\n",
        "print(\"雜湊表內容\")\n",
        "for i in range(MAXNUM):\n",
        "  create_table(data[i],index)\n",
        "  print(\"%2d =>\" %data[i],end=\"\")\n",
        "  print_data(index,INDEXBOX)\n",
        "\n",
        "print(\"完成雜湊表\")\n",
        "print_data(index,INDEXBOX)"
      ],
      "execution_count": 17,
      "outputs": [
        {
          "output_type": "stream",
          "text": [
            "原始陣列質\n",
            "\t[ 2][ 7][11][13][ 4][11][14]\n",
            "雜湊表內容\n",
            " 2 =>\t[-1][-1][ 2][-1][-1][-1][-1][-1][-1][-1]\n",
            " 7 =>\t[-1][-1][ 2][-1][-1][-1][-1][ 7][-1][-1]\n",
            "11 =>\t[-1][11][ 2][-1][-1][-1][-1][ 7][-1][-1]\n",
            "13 =>\t[-1][11][ 2][13][-1][-1][-1][ 7][-1][-1]\n",
            " 4 =>\t[-1][11][ 2][13][ 4][-1][-1][ 7][-1][-1]\n",
            "11 =>\t[-1][11][ 2][13][ 4][11][-1][ 7][-1][-1]\n",
            "14 =>\t[-1][11][ 2][13][ 4][11][14][ 7][-1][-1]\n",
            "完成雜湊表\n",
            "\t[-1][11][ 2][13][ 4][11][14][ 7][-1][-1]\n"
          ],
          "name": "stdout"
        }
      ]
    },
    {
      "cell_type": "code",
      "metadata": {
        "id": "K_8md38xEg0P",
        "outputId": "c989f6cc-5cdd-4dd6-b564-431fcdd216b7",
        "colab": {
          "base_uri": "https://localhost:8080/",
          "height": 221
        }
      },
      "source": [
        "#平方探測\n",
        "import random\n",
        "INDEXBOX=10\n",
        "MAXNUM=7\n",
        "\n",
        "def print_data(data,max_number):\n",
        "  print(\"\\t\",end=\"\")\n",
        "  for i in range(max_number):\n",
        "    print(\"[%2d]\" %data[i],end=\"\")\n",
        "  print()\n",
        "\n",
        "def create_table(num,index):\n",
        "  tmp=num%INDEXBOX\n",
        "  n=1\n",
        "  k=tmp\n",
        "  while True:\n",
        "    if index[tmp]==-1:\n",
        "       index[tmp]=num\n",
        "       break\n",
        "    else:\n",
        "      tmp=(k+n*n)%INDEXBOX\n",
        "      n=n+1\n",
        "\n",
        "index=[None]*INDEXBOX\n",
        "data=[None]*MAXNUM\n",
        "print(\"原始陣列質\")\n",
        "for i in range(MAXNUM):\n",
        "  data[i]=random.randint(1,20)\n",
        "for i in range(INDEXBOX):\n",
        "  index[i]=-1\n",
        "print_data(data,MAXNUM)\n",
        "\n",
        "print(\"雜湊表內容\")\n",
        "for i in range(MAXNUM):\n",
        "  create_table(data[i],index)\n",
        "  print(\"%2d =>\" %data[i],end=\"\")\n",
        "  print_data(index,INDEXBOX)\n",
        "\n",
        "print(\"完成雜湊表\")\n",
        "print_data(index,INDEXBOX)"
      ],
      "execution_count": 21,
      "outputs": [
        {
          "output_type": "stream",
          "text": [
            "原始陣列質\n",
            "\t[15][19][ 7][19][16][ 9][ 7]\n",
            "雜湊表內容\n",
            "15 =>\t[-1][-1][-1][-1][-1][15][-1][-1][-1][-1]\n",
            "19 =>\t[-1][-1][-1][-1][-1][15][-1][-1][-1][19]\n",
            " 7 =>\t[-1][-1][-1][-1][-1][15][-1][ 7][-1][19]\n",
            "19 =>\t[19][-1][-1][-1][-1][15][-1][ 7][-1][19]\n",
            "16 =>\t[19][-1][-1][-1][-1][15][16][ 7][-1][19]\n",
            " 9 =>\t[19][-1][-1][ 9][-1][15][16][ 7][-1][19]\n",
            " 7 =>\t[19][-1][-1][ 9][-1][15][16][ 7][ 7][19]\n",
            "完成雜湊表\n",
            "\t[19][-1][-1][ 9][-1][15][16][ 7][ 7][19]\n"
          ],
          "name": "stdout"
        }
      ]
    },
    {
      "cell_type": "code",
      "metadata": {
        "id": "4GDkob-eEhYi",
        "outputId": "a2fd5623-fffc-4b25-a7a6-d4fb67e46461",
        "colab": {
          "base_uri": "https://localhost:8080/",
          "height": 221
        }
      },
      "source": [
        "#再雜湊法\n",
        "import random\n",
        "INDEXBOX=10\n",
        "MAXNUM=7\n",
        "\n",
        "def print_data(data,max_number):\n",
        "  print(\"\\t\",end=\"\")\n",
        "  for i in range(max_number):\n",
        "    print(\"[%2d]\" %data[i],end=\"\")\n",
        "  print()\n",
        "\n",
        "def create_table(num,index):\n",
        "  tmp=num%INDEXBOX\n",
        "  k=1\n",
        "  while True:\n",
        "    if index[tmp]==-1:\n",
        "       index[tmp]=num\n",
        "       break\n",
        "    else:\n",
        "      tmp=(num+k*3)%INDEXBOX\n",
        "      k=k+1\n",
        "\n",
        "index=[None]*INDEXBOX\n",
        "data=[None]*MAXNUM\n",
        "print(\"原始陣列質\")\n",
        "for i in range(MAXNUM):\n",
        "  data[i]=random.randint(1,20)\n",
        "for i in range(INDEXBOX):\n",
        "  index[i]=-1\n",
        "print_data(data,MAXNUM)\n",
        "\n",
        "print(\"雜湊表內容\")\n",
        "for i in range(MAXNUM):\n",
        "  create_table(data[i],index)\n",
        "  print(\"%2d =>\" %data[i],end=\"\")\n",
        "  print_data(index,INDEXBOX)\n",
        "\n",
        "print(\"完成雜湊表\")\n",
        "print_data(index,INDEXBOX)"
      ],
      "execution_count": 44,
      "outputs": [
        {
          "output_type": "stream",
          "text": [
            "原始陣列質\n",
            "\t[ 4][ 4][17][ 4][12][12][ 8]\n",
            "雜湊表內容\n",
            " 4 =>\t[-1][-1][-1][-1][ 4][-1][-1][-1][-1][-1]\n",
            " 4 =>\t[-1][-1][-1][-1][ 4][-1][-1][ 4][-1][-1]\n",
            "17 =>\t[17][-1][-1][-1][ 4][-1][-1][ 4][-1][-1]\n",
            " 4 =>\t[17][-1][-1][ 4][ 4][-1][-1][ 4][-1][-1]\n",
            "12 =>\t[17][-1][12][ 4][ 4][-1][-1][ 4][-1][-1]\n",
            "12 =>\t[17][-1][12][ 4][ 4][12][-1][ 4][-1][-1]\n",
            " 8 =>\t[17][-1][12][ 4][ 4][12][-1][ 4][ 8][-1]\n",
            "完成雜湊表\n",
            "\t[17][-1][12][ 4][ 4][12][-1][ 4][ 8][-1]\n"
          ],
          "name": "stdout"
        }
      ]
    }
  ]
}