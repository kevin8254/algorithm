{
  "nbformat": 4,
  "nbformat_minor": 0,
  "metadata": {
    "colab": {
      "name": "Binary Search20201014.ipynb",
      "provenance": [],
      "authorship_tag": "ABX9TyORulrIqfmSR/qDkvYCJPcU",
      "include_colab_link": true
    },
    "kernelspec": {
      "name": "python3",
      "display_name": "Python 3"
    }
  },
  "cells": [
    {
      "cell_type": "markdown",
      "metadata": {
        "id": "view-in-github",
        "colab_type": "text"
      },
      "source": [
        "<a href=\"https://colab.research.google.com/github/kevin8254/algorithm/blob/master/Binary_Search20201014.ipynb\" target=\"_parent\"><img src=\"https://colab.research.google.com/assets/colab-badge.svg\" alt=\"Open In Colab\"/></a>"
      ]
    },
    {
      "cell_type": "code",
      "metadata": {
        "id": "sj-Y-PLd4WvN",
        "outputId": "97ab4d0e-f25b-4495-a58e-ec81495bd6f5",
        "colab": {
          "base_uri": "https://localhost:8080/",
          "height": 51
        }
      },
      "source": [
        "def binarySearch (arr,l,r,x):\n",
        "    if r>=l:\n",
        "      mid = l+(r-l)//2\n",
        "      if arr[mid] == x:\n",
        "        return mid\n",
        "      elif arr[mid]>x:\n",
        "        return binarySearch(arr,l,mid-1,x)\n",
        "      else:\n",
        "        return binarySearch(arr,mid+1,r,x)\n",
        "    else:\n",
        "      return-1\n",
        "arr=[5,8,9,15,30]\n",
        "x=int(input(\"輸入數字:\"))\n",
        "result = binarySearch(arr,0,len(arr)-1,x)\n",
        "if result != -1:\n",
        "  print(\"元素在索引 %d\" % result)\n",
        "else:\n",
        "  print(\"陣列中找不到該元素\")"
      ],
      "execution_count": 22,
      "outputs": [
        {
          "output_type": "stream",
          "text": [
            "輸入數字:3\n",
            "陣列中找不到該元素\n"
          ],
          "name": "stdout"
        }
      ]
    },
    {
      "cell_type": "code",
      "metadata": {
        "id": "syOe_7KM_q67",
        "outputId": "d3fb47bf-08ee-4078-c04d-a3a1c6464958",
        "colab": {
          "base_uri": "https://localhost:8080/",
          "height": 85
        }
      },
      "source": [
        "def Bubble_Sort(datas):\n",
        "    for i in range(1, len(datas)): # \n",
        "        for j in range(len(datas)-i):   # \n",
        "            if datas[j] > datas[j+1]:   # \n",
        "                datas[j], datas[j+1] = datas[j+1], datas[j]\n",
        "    return datas\n",
        "\n",
        "def binarySearch (alist,l,r,x):\n",
        "    if r>=l:\n",
        "      mid = l+(r-l)//2\n",
        "      if arr[mid] == x:\n",
        "        return mid\n",
        "      elif arr[mid]>x:\n",
        "        return binarySearch(alist,l,mid-1,x)\n",
        "      else:\n",
        "        return binarySearch(alist,mid+1,r,x)\n",
        "    else:\n",
        "      return-1\n",
        "\n",
        "\n",
        "if __name__ == '__main__':\n",
        "    alist=[]              #設一個list\n",
        "    a=input('輸入6個數字:') \n",
        "    alist=a.split();          #空格不會變字串\n",
        "    for i in range (len(alist)):  #字串轉成數值\n",
        "      alist[i]=int(alist[i])\n",
        "           #數值亂數排列  \n",
        "    k = Bubble_Sort(alist)\n",
        "    print('排序過後',k)  \n",
        "\n",
        "x=int(input(\"輸入想要搜尋的數字:\"))\n",
        "result = binarySearch(alist,0,len(alist)-1,x)\n",
        "if result != -1:\n",
        "  print(\"元素在索引 %d\" % result)\n",
        "else:\n",
        "  print(\"陣列中找不到該元素\")  "
      ],
      "execution_count": 30,
      "outputs": [
        {
          "output_type": "stream",
          "text": [
            "輸入6個數字:2 5 7 9 6 3\n",
            "排序過後 [2, 3, 5, 6, 7, 9]\n",
            "輸入想要搜尋的數字:9\n",
            "元素在索引 2\n"
          ],
          "name": "stdout"
        }
      ]
    }
  ]
}