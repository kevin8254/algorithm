{
  "nbformat": 4,
  "nbformat_minor": 0,
  "metadata": {
    "colab": {
      "name": "1118期中考.ipynb",
      "provenance": [],
      "authorship_tag": "ABX9TyOBfAktDAksdf+R3ntQY4yK",
      "include_colab_link": true
    },
    "kernelspec": {
      "name": "python3",
      "display_name": "Python 3"
    }
  },
  "cells": [
    {
      "cell_type": "markdown",
      "metadata": {
        "id": "view-in-github",
        "colab_type": "text"
      },
      "source": [
        "<a href=\"https://colab.research.google.com/github/kevin8254/algorithm/blob/master/1118%E6%9C%9F%E4%B8%AD%E8%80%83.ipynb\" target=\"_parent\"><img src=\"https://colab.research.google.com/assets/colab-badge.svg\" alt=\"Open In Colab\"/></a>"
      ]
    },
    {
      "cell_type": "markdown",
      "metadata": {
        "id": "5wF2FOa3ngAW"
      },
      "source": [
        "Selection sort (選擇排序)"
      ]
    },
    {
      "cell_type": "code",
      "metadata": {
        "colab": {
          "base_uri": "https://localhost:8080/"
        },
        "id": "zPSB3-UJnbdd",
        "outputId": "2e3ea627-5e4e-4d81-a30e-bf3516cd9ce1"
      },
      "source": [
        "def Selction_Sort(datas):  \n",
        "    k=1                      \n",
        "    for i in range(len(datas)-1):                   \n",
        "        max = i                          \n",
        "        for j in range(i+1, len(datas)):            \n",
        "            if datas[j] > datas[max]:               #比較第j與第i個元素\n",
        "                max = j                 \n",
        "\n",
        "        datas[i], datas[max] = datas[max], datas[i]         #每次找的最大值與第i值交換 \n",
        "\n",
        "        print(f'第%d次排序:{datas}'%k)\n",
        "        k=k+1                              #在list中放入0~50中隨機8個數字\n",
        "        print('---'*20)                     \n",
        "    return datas                            \n",
        "\n",
        "\n",
        "if __name__ == '__main__':                          #讓檔案在被引用時，不該執行的程式碼不被執行\n",
        "    import random                         \n",
        "    a = list(random.randint(0,50) for i in range(8))         #在list中放入0~50中隨機8個數字              \n",
        "    random.shuffle(a)                            #隨機排序那8個數字\n",
        "    print(\"原始的數列:\",a)\n",
        "    print('---'*20)                             \n",
        "    a = Selction_Sort(a)                         #列出排序的過程"
      ],
      "execution_count": null,
      "outputs": [
        {
          "output_type": "stream",
          "text": [
            "原始的數列: [21, 9, 45, 39, 3, 41, 1, 13]\n",
            "------------------------------------------------------------\n",
            "第1次排序:[45, 9, 21, 39, 3, 41, 1, 13]\n",
            "------------------------------------------------------------\n",
            "第2次排序:[45, 41, 21, 39, 3, 9, 1, 13]\n",
            "------------------------------------------------------------\n",
            "第3次排序:[45, 41, 39, 21, 3, 9, 1, 13]\n",
            "------------------------------------------------------------\n",
            "第4次排序:[45, 41, 39, 21, 3, 9, 1, 13]\n",
            "------------------------------------------------------------\n",
            "第5次排序:[45, 41, 39, 21, 13, 9, 1, 3]\n",
            "------------------------------------------------------------\n",
            "第6次排序:[45, 41, 39, 21, 13, 9, 1, 3]\n",
            "------------------------------------------------------------\n",
            "第7次排序:[45, 41, 39, 21, 13, 9, 3, 1]\n",
            "------------------------------------------------------------\n"
          ],
          "name": "stdout"
        }
      ]
    },
    {
      "cell_type": "markdown",
      "metadata": {
        "id": "kEtz7m1Unlcs"
      },
      "source": [
        "Insertion sort (插入排序)"
      ]
    },
    {
      "cell_type": "code",
      "metadata": {
        "colab": {
          "base_uri": "https://localhost:8080/"
        },
        "id": "ICoGUbD1nm7d",
        "outputId": "02c5bf01-1f18-46c7-8a47-72a00590826e"
      },
      "source": [
        "def Insertion_Sort(datas):                           \n",
        "    for i in range(1, len(datas)):                    \n",
        "        for j in range(i):\n",
        "            current = datas[i]\n",
        "            if current < datas[j]:\n",
        "                for k in range(i,j):\n",
        "                  print(datas)\n",
        "    return datas\n",
        "\n",
        "def insertionSort(arr):\n",
        "    k=1                                   \n",
        "    for i in range(len(arr)):                         \n",
        "        preIndex = i-1                             \n",
        "        current = arr[i]                        #暫存資料                      \n",
        "        while preIndex >= 0 and arr[preIndex] > current:      \n",
        "            arr[preIndex+1] = arr[preIndex]             #把所有元素往後推一個位置    \n",
        "            preIndex -= 1                         \n",
        "        arr[preIndex+1] = current                   \n",
        "        print(f'第%d次排序:{arr}'%k)\n",
        "        k=k+1                               #在list中放入0~50中隨機8個數字                        \n",
        "    return arr\n",
        "\n",
        "if __name__ == '__main__':                          #要讓檔案在被引用時，不該執行的程式碼不被執行\n",
        "    import random                              \n",
        "    a = list(random.randint(0,50) for i in range(8))          #在list中放入0~50中隨機8個數字        \n",
        "    random.shuffle(a)  \n",
        "    print(\"原始數列為:\",a)                          #列出原始數列\n",
        "    print('---'*15)                                                          \n",
        "    arr = insertionSort(a)                         #列出排序過程 "
      ],
      "execution_count": 10,
      "outputs": [
        {
          "output_type": "stream",
          "text": [
            "原始數列為: [48, 1, 25, 13, 23, 4, 13, 45]\n",
            "---------------------------------------------\n",
            "第1次排序:[48, 1, 25, 13, 23, 4, 13, 45]\n",
            "第2次排序:[1, 48, 25, 13, 23, 4, 13, 45]\n",
            "第3次排序:[1, 25, 48, 13, 23, 4, 13, 45]\n",
            "第4次排序:[1, 13, 25, 48, 23, 4, 13, 45]\n",
            "第5次排序:[1, 13, 23, 25, 48, 4, 13, 45]\n",
            "第6次排序:[1, 4, 13, 23, 25, 48, 13, 45]\n",
            "第7次排序:[1, 4, 13, 13, 23, 25, 48, 45]\n",
            "第8次排序:[1, 4, 13, 13, 23, 25, 45, 48]\n"
          ],
          "name": "stdout"
        }
      ]
    }
  ]
}