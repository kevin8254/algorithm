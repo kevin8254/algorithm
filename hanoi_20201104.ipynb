{
  "nbformat": 4,
  "nbformat_minor": 0,
  "metadata": {
    "colab": {
      "name": "hanoi 20201104.ipynb",
      "provenance": [],
      "authorship_tag": "ABX9TyPDpb7Ya4UcFVXH7TWVQt9e",
      "include_colab_link": true
    },
    "kernelspec": {
      "name": "python3",
      "display_name": "Python 3"
    }
  },
  "cells": [
    {
      "cell_type": "markdown",
      "metadata": {
        "id": "view-in-github",
        "colab_type": "text"
      },
      "source": [
        "<a href=\"https://colab.research.google.com/github/kevin8254/algorithm/blob/master/hanoi_20201104.ipynb\" target=\"_parent\"><img src=\"https://colab.research.google.com/assets/colab-badge.svg\" alt=\"Open In Colab\"/></a>"
      ]
    },
    {
      "cell_type": "code",
      "metadata": {
        "id": "ojXk3Ec0EF6t",
        "outputId": "50c9d2c4-3db9-4587-d28a-5cdb42ac1ecc",
        "colab": {
          "base_uri": "https://localhost:8080/"
        }
      },
      "source": [
        "#猜數字\n",
        "from random import randint\n",
        "\n",
        "#規定範圍並產生密碼\n",
        "lowest = 1\n",
        "highest = 100\n",
        "answer = randint(lowest, highest)\n",
        "\n",
        "#重複猜數字，直到猜對為止\n",
        "while True:\n",
        "    guess = input('密碼介於 ' + str(lowest) + '-' + str(highest) + ':\\n>>')\n",
        "    \n",
        "    #檢查輸入的內容是否為數字\n",
        "    try:\n",
        "        guess = int(guess)  #把字串轉換成整數\n",
        "    except ValueError:  #轉換失敗便要求重新輸入數字\n",
        "        print('格式錯誤，請輸入數字\\n')\n",
        "        continue\n",
        "    \n",
        "    #檢查輸入的數字是否介於規定範圍內\n",
        "    if guess <= lowest or guess >= highest:\n",
        "        print('請輸入 ' + str(lowest) + '-' + str(highest) + ' 之間的整數\\n')\n",
        "        continue\n",
        "    \n",
        "    #判斷有沒有猜中密碼\n",
        "    if guess == answer:\n",
        "        print('答對了！')\n",
        "        break   #猜對才跳脫迴圈\n",
        "    elif guess < answer:\n",
        "        lowest = guess\n",
        "    else:\n",
        "        highest = guess"
      ],
      "execution_count": 1,
      "outputs": [
        {
          "output_type": "stream",
          "text": [
            "密碼介於 1-100:\n",
            ">>20 \n",
            "密碼介於 1-20:\n",
            ">>1\n",
            "請輸入 1-20 之間的整數\n",
            "\n",
            "密碼介於 1-20:\n",
            ">>10\n",
            "密碼介於 1-10:\n",
            ">>5\n",
            "密碼介於 5-10:\n",
            ">>6\n",
            "密碼介於 6-10:\n",
            ">>7\n",
            "密碼介於 7-10:\n",
            ">>8\n",
            "答對了！\n"
          ],
          "name": "stdout"
        }
      ]
    },
    {
      "cell_type": "code",
      "metadata": {
        "id": "cdogZNfREm8s",
        "outputId": "dee7e5a6-9d1b-4fea-e007-5a9796c9bd79",
        "colab": {
          "base_uri": "https://localhost:8080/"
        }
      },
      "source": [
        "#河內塔\n",
        "a=0\n",
        "def hanoi(n, A, B, C):\n",
        "    global a\n",
        "    if n == 1:\n",
        "      a+=1;        \n",
        "      print(A + \"→\" + C,\"執行次數:\" ,a)\n",
        "      \n",
        "                \n",
        "       \n",
        "    else:\n",
        "        hanoi(n-1, A, C, B)\n",
        "        a+=1;\n",
        "        print(A + \"→\" + C,\"執行次數:\",a)\n",
        "        hanoi(n-1, B, A, C)\n",
        "        \n",
        "\n",
        "\n",
        "hanoi(5, \"A\", \"B\", \"C\")\n",
        "\n",
        "\n"
      ],
      "execution_count": 56,
      "outputs": [
        {
          "output_type": "stream",
          "text": [
            "A→C 執行次數: 1\n",
            "A→B 執行次數: 2\n",
            "C→B 執行次數: 3\n",
            "A→C 執行次數: 4\n",
            "B→A 執行次數: 5\n",
            "B→C 執行次數: 6\n",
            "A→C 執行次數: 7\n",
            "A→B 執行次數: 8\n",
            "C→B 執行次數: 9\n",
            "C→A 執行次數: 10\n",
            "B→A 執行次數: 11\n",
            "C→B 執行次數: 12\n",
            "A→C 執行次數: 13\n",
            "A→B 執行次數: 14\n",
            "C→B 執行次數: 15\n",
            "A→C 執行次數: 16\n",
            "B→A 執行次數: 17\n",
            "B→C 執行次數: 18\n",
            "A→C 執行次數: 19\n",
            "B→A 執行次數: 20\n",
            "C→B 執行次數: 21\n",
            "C→A 執行次數: 22\n",
            "B→A 執行次數: 23\n",
            "B→C 執行次數: 24\n",
            "A→C 執行次數: 25\n",
            "A→B 執行次數: 26\n",
            "C→B 執行次數: 27\n",
            "A→C 執行次數: 28\n",
            "B→A 執行次數: 29\n",
            "B→C 執行次數: 30\n",
            "A→C 執行次數: 31\n"
          ],
          "name": "stdout"
        }
      ]
    },
    {
      "cell_type": "code",
      "metadata": {
        "id": "Au3oJmPYLmN4"
      },
      "source": [
        ""
      ],
      "execution_count": null,
      "outputs": []
    }
  ]
}