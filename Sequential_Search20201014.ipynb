{
  "nbformat": 4,
  "nbformat_minor": 0,
  "metadata": {
    "colab": {
      "name": "Sequential Search20201014.ipynb",
      "provenance": [],
      "authorship_tag": "ABX9TyO3v9ggGAiOCZD+CiF+Xuxg",
      "include_colab_link": true
    },
    "kernelspec": {
      "name": "python3",
      "display_name": "Python 3"
    }
  },
  "cells": [
    {
      "cell_type": "markdown",
      "metadata": {
        "id": "view-in-github",
        "colab_type": "text"
      },
      "source": [
        "<a href=\"https://colab.research.google.com/github/kevin8254/algorithm/blob/master/Sequential_Search20201014.ipynb\" target=\"_parent\"><img src=\"https://colab.research.google.com/assets/colab-badge.svg\" alt=\"Open In Colab\"/></a>"
      ]
    },
    {
      "cell_type": "code",
      "metadata": {
        "id": "6DYgF5zgy3kd",
        "outputId": "c23e3f6d-d923-4104-978c-c05053cf44ac",
        "colab": {
          "base_uri": "https://localhost:8080/",
          "height": 51
        }
      },
      "source": [
        "data = [20,31,50,17,16,36,19,8]\n",
        "a=int(input(\"輸入數字:\"))\n",
        "def sequential_search(data,key):\n",
        "  for i in data:\n",
        "    if i == key:\n",
        "      print(\"找到了\")\n",
        "      break\n",
        "  else :\n",
        "      print(\"沒有找到\")\n",
        "      \n",
        "sequential_search(data,a)"
      ],
      "execution_count": 28,
      "outputs": [
        {
          "output_type": "stream",
          "text": [
            "輸入數字:20\n",
            "找到了\n"
          ],
          "name": "stdout"
        }
      ]
    }
  ]
}