{
  "nbformat": 4,
  "nbformat_minor": 0,
  "metadata": {
    "colab": {
      "name": "20210106克爾.ipynb",
      "provenance": [],
      "collapsed_sections": [],
      "authorship_tag": "ABX9TyOvSlnuUsGpDInTjMptO2PY",
      "include_colab_link": true
    },
    "kernelspec": {
      "name": "python3",
      "display_name": "Python 3"
    }
  },
  "cells": [
    {
      "cell_type": "markdown",
      "metadata": {
        "id": "view-in-github",
        "colab_type": "text"
      },
      "source": [
        "<a href=\"https://colab.research.google.com/github/kevin8254/algorithm/blob/master/20210106%E5%85%8B%E7%88%BE.ipynb\" target=\"_parent\"><img src=\"https://colab.research.google.com/assets/colab-badge.svg\" alt=\"Open In Colab\"/></a>"
      ]
    },
    {
      "cell_type": "code",
      "metadata": {
        "colab": {
          "base_uri": "https://localhost:8080/"
        },
        "id": "4OR3C2mGfzfz",
        "outputId": "816be8cb-de6b-4c2f-d938-c104b7c6eed6"
      },
      "source": [
        "class DisjointSet(dict):\r\n",
        "    '''不相交集'''\r\n",
        "\r\n",
        "    def __init__(self, dict):\r\n",
        "        pass\r\n",
        "\r\n",
        "    def add(self, item):\r\n",
        "        self[item] = item\r\n",
        "\r\n",
        "    def find(self, item):\r\n",
        "        if self[item] != item:\r\n",
        "            self[item] = self.find(self[item])\r\n",
        "        return self[item]\r\n",
        "\r\n",
        "    def unionset(self, item1, item2):\r\n",
        "        self[item2] = self[item1]\r\n",
        "\r\n",
        "\r\n",
        "def Kruskal_1(nodes, edges):\r\n",
        "    '''基於不相交集實現Kruskal演算法'''\r\n",
        "    forest = DisjointSet(nodes)\r\n",
        "    MST = []\r\n",
        "    for item in nodes:\r\n",
        "        print(item)\r\n",
        "        forest.add(item)\r\n",
        "    edges = sorted(edges, key=lambda element: element[2])\r\n",
        "    num_sides = len(nodes)-1  # 最小生成樹的邊數等於頂點數減一\r\n",
        "    for e in edges:\r\n",
        "        node1, node2, _ = e\r\n",
        "        parent1 = forest.find(node1)\r\n",
        "        parent2 = forest.find(node2)\r\n",
        "        if parent1 != parent2:\r\n",
        "            MST.append(e)\r\n",
        "            num_sides -= 1\r\n",
        "            if num_sides == 0:\r\n",
        "                return MST\r\n",
        "            else:\r\n",
        "                forest.unionset(parent1, parent2)\r\n",
        "    pass\r\n",
        "\r\n",
        "\r\n",
        "def Kruskal(nodes, edges):\r\n",
        "    ''' Kruskal 無向圖生成最小生成樹 '''\r\n",
        "    all_nodes = nodes  # set(nodes)\r\n",
        "    used_nodes = set()\r\n",
        "    MST = []\r\n",
        "    edges = sorted(edges, key=lambda element: element[2], reverse=True)\r\n",
        "    # 對所有的邊按權重升序排列\r\n",
        "    while used_nodes != all_nodes and edges:\r\n",
        "        element = edges.pop(-1)\r\n",
        "        if element[0] in used_nodes and element[1] in used_nodes:\r\n",
        "            continue\r\n",
        "        MST.append(element)\r\n",
        "        used_nodes.update(element[:2])\r\n",
        "        # print(used_nodes)\r\n",
        "    return MST\r\n",
        "\r\n",
        "\r\n",
        "def main():\r\n",
        "    nodes = set(list('ABCDEF'))\r\n",
        "    edges = [(\"A\", \"B\", 1), (\"A\", \"D\", 3),\r\n",
        "             (\"B\", \"C\", 2),(\"B\", \"D\", 4),(\"B\", \"E\", 5),\r\n",
        "             (\"B\", \"F\", 6),(\"C\", \"F\", 7),(\"D\", \"E\", 8)\r\n",
        "             ,(\"E\", \"F\", 9)]\r\n",
        "    print(\"\\n\\n 無向圖是 :\", edges)\r\n",
        "    print(\"\\n\\n Kruskal的最小生成樹是 : \")\r\n",
        "    print(Kruskal_1(nodes, edges))\r\n",
        "\r\n",
        "\r\n",
        "if __name__ == '__main__':\r\n",
        "    main()"
      ],
      "execution_count": 5,
      "outputs": [
        {
          "output_type": "stream",
          "text": [
            "\n",
            "\n",
            "The undirected graph is : [('A', 'B', 1), ('A', 'D', 3), ('B', 'C', 2), ('B', 'D', 4), ('B', 'E', 5), ('B', 'F', 6), ('C', 'F', 7), ('D', 'E', 8), ('E', 'F', 9)]\n",
            "\n",
            "\n",
            "The minimum spanning tree by Kruskal is : \n",
            "D\n",
            "C\n",
            "B\n",
            "F\n",
            "E\n",
            "A\n",
            "[('A', 'B', 1), ('B', 'C', 2), ('A', 'D', 3), ('B', 'E', 5), ('B', 'F', 6)]\n"
          ],
          "name": "stdout"
        }
      ]
    },
    {
      "cell_type": "markdown",
      "metadata": {
        "id": "5w99W6-DilFp"
      },
      "source": [
        ""
      ]
    }
  ]
}